{
 "cells": [
  {
   "cell_type": "code",
   "execution_count": 1,
   "metadata": {},
   "outputs": [],
   "source": [
    "import numpy as np\n",
    "import matplotlib.pyplot as plt\n",
    "%matplotlib inline"
   ]
  },
  {
   "cell_type": "code",
   "execution_count": 2,
   "metadata": {},
   "outputs": [
    {
     "ename": "NameError",
     "evalue": "name 'T_Light' is not defined",
     "output_type": "error",
     "traceback": [
      "\u001b[0;31m---------------------------------------------------------------------------\u001b[0m",
      "\u001b[0;31mNameError\u001b[0m                                 Traceback (most recent call last)",
      "\u001b[0;32m<ipython-input-2-38ac3ce3d1ab>\u001b[0m in \u001b[0;36m<module>\u001b[0;34m()\u001b[0m\n\u001b[1;32m     51\u001b[0m     \u001b[0;32mreturn\u001b[0m \u001b[0mnp\u001b[0m\u001b[0;34m.\u001b[0m\u001b[0mabs\u001b[0m\u001b[0;34m(\u001b[0m\u001b[0malpha\u001b[0m\u001b[0;34m)\u001b[0m\u001b[0;34m\u001b[0m\u001b[0m\n\u001b[1;32m     52\u001b[0m \u001b[0;34m\u001b[0m\u001b[0m\n\u001b[0;32m---> 53\u001b[0;31m \u001b[0m_\u001b[0m \u001b[0;34m=\u001b[0m \u001b[0mcolor\u001b[0m\u001b[0;34m(\u001b[0m\u001b[0mT_Light\u001b[0m\u001b[0;34m,\u001b[0m \u001b[0mT_camera\u001b[0m\u001b[0;34m,\u001b[0m \u001b[0mnp\u001b[0m\u001b[0;34m.\u001b[0m\u001b[0masarray\u001b[0m\u001b[0;34m(\u001b[0m\u001b[0;34m[\u001b[0m\u001b[0;36m10\u001b[0m\u001b[0;34m,\u001b[0m\u001b[0;36m10\u001b[0m\u001b[0;34m,\u001b[0m\u001b[0;36m0\u001b[0m\u001b[0;34m]\u001b[0m\u001b[0;34m)\u001b[0m\u001b[0;34m)\u001b[0m\u001b[0;34m\u001b[0m\u001b[0m\n\u001b[0m",
      "\u001b[0;31mNameError\u001b[0m: name 'T_Light' is not defined"
     ]
    }
   ],
   "source": [
    "def d2r(x):\n",
    "    return x / 180 * np.pi\n",
    "\n",
    "def r2d(x):\n",
    "    return x / np.pi * 180\n",
    "    \n",
    "def norml2(V):\n",
    "    return V / np.sqrt(V[0]*V[0]+V[1]*V[1])\n",
    "\n",
    "def norm(V):\n",
    "    return np.sqrt(V[0]*V[0]+V[1]*V[1])\n",
    "\n",
    "def rot(a):\n",
    "    r1 = [np.cos(a),-np.sin(a)]\n",
    "    r2 = [np.sin(a), np.cos(a)]\n",
    "    return np.asarray([r1,r2])\n",
    "\n",
    "def color(light, camera, pixel):\n",
    "#     print('light',light.astype('int'))\n",
    "#     print('camera',camera.astype('int'))\n",
    "#     print('pixel',pixel.astype('int'))\n",
    "    light_in = pixel-light\n",
    "    light_in_unit = norml2(light_in)\n",
    "    light_ot_mirr = light_in_unit*np.asarray([1,1,-1])\n",
    "    \n",
    "    light_ot = camera-pixel\n",
    "    light_ot_unit = norml2(light_ot)\n",
    "    \n",
    "    ### local x,y coordinate\n",
    "    x = norml2(np.matmul(rot(-d2r(90)),light_in[:2]))\n",
    "    y = norml2(light_in[:2])\n",
    "    ### phi in\n",
    "    phi_in = -np.arctan2(norm(light_in[:2]),np.abs(light_in[2]))\n",
    "#     print(r2d(phi_in))\n",
    "\n",
    "    ### phi out\n",
    "    light_ot_x = np.dot(x,light_ot_unit[:2])\n",
    "    light_ot_y = np.dot(y,light_ot_unit[:2])\n",
    "    light_ot_z = light_ot_unit[2]\n",
    "#     print(light_ot_y)\n",
    "    phi_ot = np.arctan2(light_ot_y,np.abs(light_ot_z))\n",
    "#     print(r2d(phi_ot))\n",
    "    ### theta out\n",
    "    theta_ot = np.arctan2(light_ot_x,np.abs(light_ot_z))\n",
    "    \n",
    "    ### psi\n",
    "    psi = np.arctan(np.cos(phi_ot)*np.sin(theta_ot)/(np.sin(phi_in)+np.sin(phi_ot)))\n",
    "    \n",
    "    alpha = np.sin(phi_in)+np.sin(phi_ot)/np.cos(psi)\n",
    "    \n",
    "    return np.abs(alpha)\n",
    "\n",
    "_ = color(T_Light, T_camera, np.asarray([10,10,0]))"
   ]
  },
  {
   "cell_type": "code",
   "execution_count": 3,
   "metadata": {},
   "outputs": [],
   "source": [
    "def rot_y(a):\n",
    "    r1 = [np.cos(a),0,np.sin(a)]\n",
    "    r2 = [0,1,0]\n",
    "    r3 = [-np.sin(a),0,np.cos(a)]\n",
    "    return np.asarray([r1,r2,r3])"
   ]
  },
  {
   "cell_type": "code",
   "execution_count": 4,
   "metadata": {},
   "outputs": [],
   "source": [
    "light = np.asarray([547,371,444])#monitor\n",
    "camera = np.asarray([465,725,576])\n",
    "base_g_upper_left = np.asarray([1334,883,270])\n",
    "base_g_upper_right = np.asarray([1334,633,270])\n",
    "base_g_lower_right = np.asarray([1258,633,78])\n",
    "base_g_lower_left = np.asarray([1258,883,78])\n",
    "ang = 0.37690927032482102"
   ]
  },
  {
   "cell_type": "code",
   "execution_count": 5,
   "metadata": {},
   "outputs": [
    {
     "data": {
      "text/plain": [
       "(0, 400)"
      ]
     },
     "execution_count": 5,
     "metadata": {},
     "output_type": "execute_result"
    },
    {
     "data": {
      "image/png": "[encoded data removed]",
      "text/plain": [
       "<matplotlib.figure.Figure at 0x1064d7780>"
      ]
     },
     "metadata": {
      "needs_background": "light"
     },
     "output_type": "display_data"
    }
   ],
   "source": [
    "Grid_size = 1\n",
    "T_Grid_ori = np.asarray([40,50,0])\n",
    "\n",
    "# light\n",
    "T_Light = np.matmul(rot_y(-ang),base_g_lower_left-light)\n",
    "T_Light[2]=-T_Light[2]\n",
    "T_Light = T_Light[[1,2,0]]\n",
    "\n",
    "# camera\n",
    "h_ccd = 35\n",
    "T_camera = np.matmul(rot_y(-ang),base_g_lower_left-camera)\n",
    "T_camera[2]=-T_camera[2]\n",
    "T_camera = T_camera[[1,2,0]]\n",
    "\n",
    "x = 400\n",
    "y = 400\n",
    "gl = np.zeros((y,x))\n",
    "for i in range(y):\n",
    "    for j in range(x):\n",
    "        T_Grid = np.asarray([(i+0.5)*Grid_size,(j+0.5)*Grid_size,0])\n",
    "        pixel = T_Grid+T_Grid_ori\n",
    "        gl[i,j] = color(T_Light, T_camera, pixel)\n",
    "\n",
    "gl[gl>10]=0\n",
    "plt.imshow(gl)\n",
    "\n",
    "plt.colorbar()\n",
    "plt.ylim([0,x])\n",
    "plt.xlim([0,y])"
   ]
  }
 ],
 "metadata": {
  "kernelspec": {
   "display_name": "Python 3",
   "language": "python",
   "name": "python3"
  },
  "language_info": {
   "codemirror_mode": {
    "name": "ipython",
    "version": 3
   },
   "file_extension": ".py",
   "mimetype": "text/x-python",
   "name": "python",
   "nbconvert_exporter": "python",
   "pygments_lexer": "ipython3",
   "version": "3.5.6"
  }
 },
 "nbformat": 4,
 "nbformat_minor": 2
}
